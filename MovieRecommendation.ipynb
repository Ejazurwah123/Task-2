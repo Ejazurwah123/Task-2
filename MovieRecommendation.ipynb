{
 "cells": [
  {
   "cell_type": "markdown",
   "metadata": {},
   "source": [
    "Movie Recommenndation System:\n",
    "--> Recommend movies based on their genres and ratings\n"
   ]
  },
  {
   "cell_type": "code",
   "execution_count": 1,
   "metadata": {},
   "outputs": [
    {
     "name": "stdout",
     "output_type": "stream",
     "text": [
      "Recommended movies in the thriller genre:\n",
      "1. Battle Royale 2: Requiem (Batoru rowaiaru II: Chinkonka) (2003) - 5.0/5\n",
      "2. Assignment, The (1997) - 5.0/5\n",
      "3. 'Salem's Lot (2004) - 5.0/5\n",
      "4. The Girl with All the Gifts (2016) - 5.0/5\n",
      "5. Breed, The (2006) - 5.0/5\n",
      "6. I, the Jury (1982) - 5.0/5\n",
      "7. American Friend, The (Amerikanische Freund, Der) (1977) - 5.0/5\n",
      "8. What Happened Was... (1994) - 5.0/5\n",
      "9. Mother (Madeo) (2009) - 5.0/5\n",
      "10. Villain (1971) - 5.0/5\n"
     ]
    }
   ],
   "source": [
    "import pandas as pd\n",
    "movies = pd.read_csv('movies.csv')  \n",
    "ratings = pd.read_csv('ratings.csv')  \n",
    "joined = pd.merge(movies, ratings, on='movieId')\n",
    "def recommend_movies_by_genre(genre, limitrows=10):\n",
    "    # searching for the genres keeping the content case insensitive\n",
    "    found_genres = joined[joined['genres'].str.contains(genre, case=False)]\n",
    "    # evaluating the avg rate and groupying by that rating\n",
    "    avgratingofinputgenre = found_genres.groupby('movieId')['rating'].mean().reset_index()\n",
    "    moviessorted = avgratingofinputgenre.sort_values(by='rating', ascending=False)\n",
    "    moviesontop = moviessorted.head(limitrows)\n",
    "    merged_movies = pd.merge(moviesontop, movies, on='movieId') \n",
    "    cols = ['title', 'rating'] \n",
    "    outputmovies= merged_movies[cols]\n",
    "    return outputmovies\n",
    "\n",
    "\n",
    "genre = input(\"Enter any genre of your choice: \")\n",
    "genre = genre.lower()\n",
    "recommended_movies = recommend_movies_by_genre(genre)\n",
    "print(\"Recommended movies in the\", genre, \"genre:\")\n",
    "for  i, row in recommended_movies.iterrows():\n",
    "    print(f\"{i+1}. {row['title']} - {round(row['rating'],2)}/5\")"
   ]
  }
 ],
 "metadata": {
  "kernelspec": {
   "display_name": "Python 3",
   "language": "python",
   "name": "python3"
  },
  "language_info": {
   "codemirror_mode": {
    "name": "ipython",
    "version": 3
   },
   "file_extension": ".py",
   "mimetype": "text/x-python",
   "name": "python",
   "nbconvert_exporter": "python",
   "pygments_lexer": "ipython3",
   "version": "3.11.4"
  }
 },
 "nbformat": 4,
 "nbformat_minor": 2
}
